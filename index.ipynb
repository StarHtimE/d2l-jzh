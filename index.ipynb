{
 "cells": [
  {
   "cell_type": "markdown",
   "id": "8e709cee",
   "metadata": {
    "origin_pos": 0
   },
   "source": [
    "《动手学深度学习》\n",
    "========================\n",
    "##### 准备\n",
    " - [chapter_preface/index](chapter_preface/index.ipynb)\n",
    " - [chapter_installation/index](chapter_installation/index.ipynb)\n",
    " - [chapter_notation/index](chapter_notation/index.ipynb)\n",
    "##### 主体\n",
    "- [01_chapter_introduction/index](01_chapter_introduction/index.ipynb)\n",
    "- [02_chapter_preliminaries/index](02_chapter_preliminaries/index.ipynb)\n",
    "- [03_chapter_linear-networks/index](03_chapter_linear-networks/index.ipynb)\n",
    "- [04_chapter_multilayer-perceptrons/index](04_chapter_multilayer-perceptrons/index.ipynb)\n",
    "- [05_chapter_deep-learning-computation/index](05_chapter_deep-learning-computation/index.ipynb)\n",
    "- [06_chapter_convolutional-neural-networks/index](06_chapter_convolutional-neural-networks/index.ipynb)\n",
    "- [07_chapter_convolutional-modern/index](07_chapter_convolutional-modern/index.ipynb)\n",
    "- [08_chapter_recurrent-neural-networks/index](08_chapter_recurrent-neural-networks/index.ipynb)\n",
    "- [09_chapter_recurrent-modern/index](09_chapter_recurrent-modern/index.ipynb)\n",
    "- [10_chapter_attention-mechanisms/index](10_chapter_attention-mechanisms/index.ipynb)\n",
    "- [11_chapter_optimization/index](11_chapter_optimization/index.ipynb)\n",
    "- [12_chapter_computational-performance/index](12_chapter_computational-performance/index.ipynb)\n",
    "- [13_chapter_computer-vision/index](13_chapter_computer-vision/index.ipynb)\n",
    "- [14_chapter_natural-language-processing-pretraining/index](14_chapter_natural-language-processing-pretraining/index.ipynb)\n",
    "- [15_chapter_natural-language-processing-applications/index](15_chapter_natural-language-processing-applications/index.ipynb)\n",
    "- [16_chapter_appendix-tools-for-deep-learning/index](16_chapter_appendix-tools-for-deep-learning/index.ipynb)\n",
    "##### 参考文献\n",
    " - [chapter_references/zreferences](chapter_references/zreferences.ipynb)\n",
    "\n"
   ]
  }
 ],
 "metadata": {
  "language_info": {
   "name": "python"
  }
 },
 "nbformat": 4,
 "nbformat_minor": 5
}
